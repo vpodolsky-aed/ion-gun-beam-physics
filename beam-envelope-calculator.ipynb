{
 "cells": [
  {
   "cell_type": "code",
   "execution_count": 1,
   "metadata": {},
   "outputs": [],
   "source": [
    "import numpy as np\n",
    "import math\n",
    "import matplotlib.pyplot as plt\n",
    "from scipy.integrate import solve_ivp \n",
    "from scipy.integrate import quad"
   ]
  },
  {
   "cell_type": "code",
   "execution_count": 2,
   "metadata": {},
   "outputs": [],
   "source": [
    "########Define Physical Constants######\n",
    "pi=math.pi;                #3.14159\n",
    "c=299792458;               #Speed of light-------------------m/s\n",
    "e_o=8.85419E-12;           #Permittivity of free space-------F/m\n",
    "Ru=8.3145;                 #Universal gas constant-----------J/mol-K\n",
    "N_A=6.02214e23;            #Avogadro's Number----------------1/mol\n",
    "e=1.602e-19;               #Elementary charge----------------coulombs,C\n",
    "C_charge=1/e;              #Coulomb--------------------------elementary charges, e\n",
    "\n",
    "eV2J=1.602e-19;            #eV to Joules conversion----------J/eV\n",
    "eV2kg=1.782662E-36*c**2;   #eV to kg conversion--------------kg/eV\n",
    "amu2kg=1.6605e-27;         #amu to kg conversion-------------kg/amu\n",
    "Pa_2_Torr=0.007501;        #Pa to Torr conversion------------Pa/Torr\n",
    "in2m=0.0254;               #in to m conversion---------------m/in\n",
    "Z_ion=1;                   #Ion Charge-----------------------n/a\n",
    "mw_D=2.01;                 #Deuterium Atom molar mass--------kg/mol,amu\n",
    "m_i=mw_D*amu2kg            #Ion Atom mass, Deuterium---------kg\n",
    "m_e=9.1093897e-31;         #Electron mass--------------------kg"
   ]
  },
  {
   "cell_type": "code",
   "execution_count": 3,
   "metadata": {},
   "outputs": [],
   "source": [
    "#geometric inputs\n",
    "r_o=0.375/2*in2m\n",
    "z=np.linspace(0,1,100)"
   ]
  },
  {
   "cell_type": "code",
   "execution_count": 4,
   "metadata": {},
   "outputs": [
    {
     "name": "stdout",
     "output_type": "stream",
     "text": [
      "0.001\n",
      "3.204e-15\n",
      "1385618.8499749578\n"
     ]
    }
   ],
   "source": [
    "# inputs\n",
    "m=m_i                  #Particle Mass-------------kg\n",
    "I_mA=1                 #Beam Current--------------mA  \n",
    "I=I_mA/1000            #Beam Current--------------A\n",
    "energy_eV=20e3         #Beam Energy---------------eV\n",
    "energy=energy_eV*eV2J  #Beam Energy---------------J\n",
    "v=(2*energy/m)**0.5    #Beam Velocity-------------m/s\n",
    "\"\"\"\n",
    "gamma_2=energy/(m*c**2)+1\n",
    "beta_2=(1-1/(gamma_2**2))**0.5\n",
    "v_2=beta_2*c;\n",
    "print(gamma_2)\n",
    "print(beta_2)\n",
    "print(v_2)\n",
    "\"\"\"\n",
    "f_e=0                         #Ratio of +ion/ to e- per unit volume. 0 when charge neutralization is absent. 1 when fully charge neutralized\n",
    "print(I)\n",
    "print(energy)\n",
    "print(v)"
   ]
  },
  {
   "cell_type": "code",
   "execution_count": 5,
   "metadata": {},
   "outputs": [
    {
     "name": "stdout",
     "output_type": "stream",
     "text": [
      "beta=0.004621926979814008\n",
      "gamma=1.0000106812756355\n",
      "I_o=62458742.40999692\n",
      "K=0.00032430496968734955\n",
      "0.00032431536177066306\n"
     ]
    }
   ],
   "source": [
    "beta=v/c;\n",
    "gamma=1/((1-beta**2)**0.5);\n",
    "\n",
    "I_o=4*pi*e_o/(e*Z_ion)*m*c**3;\n",
    "# K=I/I_o*2/((beta*gamma)**3)*(1-gamma**2*f_e);\n",
    "K=e*Z_ion*I/(2*pi*e_o*m_i*(beta*gamma*c)**3)\n",
    "K_nr=I/I_o*2/(beta**3)\n",
    "\"\"\"\n",
    "K_2=I/I_o*2/((beta_2*gamma_2)**3)*(1-gamma_2**2*f_e);\n",
    "print(K_2)\n",
    "\"\"\"\n",
    "print(f\"beta={beta}\")\n",
    "print(f\"gamma={gamma}\")\n",
    "print(f\"I_o={I_o}\")\n",
    "print(f\"K={K}\")\n",
    "print(K_nr)"
   ]
  },
  {
   "cell_type": "code",
   "execution_count": 6,
   "metadata": {},
   "outputs": [
    {
     "name": "stdout",
     "output_type": "stream",
     "text": [
      "2.244994432064365\n",
      "0.021\n"
     ]
    }
   ],
   "source": [
    "#solve for R(z)\n",
    "f_x=(0.3)/0.01*(2*2.8e-3)**0.5\n",
    "print(f_x)\n",
    "r=2.1/f_x*0.3*(2*2.8e-3)**0.5\n",
    "print(r)\n",
    "(2*2.8e-3*math.log(2.1))**0.5\n",
    "def rm_prime(z,r_z):\n",
    "    return (2*K)**0.5*(math.log(r_z/r_o))**0.5\n",
    "r0=[0.01]; #initial value, r0=r(z0) radius of the beam---m\n",
    "r0_prime=[0]; #at z=0, derivative of r=0\n",
    "z0=0;\n",
    "zf=0.05;"
   ]
  },
  {
   "cell_type": "code",
   "execution_count": 7,
   "metadata": {},
   "outputs": [],
   "source": [
    "# def dZ_dR(chi,z,r0_prime,r0,K,perv):\n",
    "#     return r0*(r0_prime**2+perv**2*(r0**-2)*(1-chi**-2)+2*K*math.log(chi))**0.5\n",
    "# r0=0.01\n",
    "# r0_prime=0\n",
    "# z0=[0]\n",
    "# perv=0\n",
    "# chi0=1\n",
    "# chif=6*chi0*r0\n",
    "# method='RK45'\n",
    "# sol=solve_ivp(dZ_dR,[chi0,chif],y0=z0,args=(r0_prime,r0,K,perv),method=method)\n",
    "# print(sol)"
   ]
  },
  {
   "cell_type": "code",
   "execution_count": 14,
   "metadata": {},
   "outputs": [
    {
     "name": "stdout",
     "output_type": "stream",
     "text": [
      "0.003080234978491831\n",
      "At z=0.25 mm, r_m=1.38 in, d_m=2.8 in\n"
     ]
    }
   ],
   "source": [
    "def integrand(rm,r0,r0_prime,emit,K):\n",
    "     return (r0_prime**2+emit**2*(1/r0**2-1/rm**2)+2*K*math.log(rm/r0))**-0.5\n",
    "r0=r_o\n",
    "rf=2.75/2*in2m\n",
    "r0_prime=0\n",
    "emit=1.5*pi*(energy_eV/1e6)**0.5\n",
    "emit_normal=beta*gamma*emit\n",
    "I=quad(integrand,r0,rf,args=(r0,r0_prime,emit,K))\n",
    "# chi0=1\n",
    "# chif=6*chi0*r0\n",
    "# method='RK45'\n",
    "# sol=solve_ivp(dZ_dR,[chi0,chif],y0=z0,args=(r0_prime,r0,K,perv),method=method)\n",
    "print(emit_normal)\n",
    "print(f\"At z={I[0]*1000:.2f} mm, r_m={rf/in2m:.2f} in, d_m={2*rf/in2m:.2} in\")"
   ]
  }
 ],
 "metadata": {
  "kernelspec": {
   "display_name": "Python 3",
   "language": "python",
   "name": "python3"
  },
  "language_info": {
   "codemirror_mode": {
    "name": "ipython",
    "version": 3
   },
   "file_extension": ".py",
   "mimetype": "text/x-python",
   "name": "python",
   "nbconvert_exporter": "python",
   "pygments_lexer": "ipython3",
   "version": "3.11.2"
  },
  "orig_nbformat": 4
 },
 "nbformat": 4,
 "nbformat_minor": 2
}
